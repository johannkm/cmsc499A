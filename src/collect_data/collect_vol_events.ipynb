{
 "cells": [
  {
   "cell_type": "markdown",
   "metadata": {},
   "source": [
    "### Collect events for each volunteer user"
   ]
  },
  {
   "cell_type": "code",
   "execution_count": 1,
   "metadata": {
    "ExecuteTime": {
     "end_time": "2017-12-07T01:08:11.530974Z",
     "start_time": "2017-12-07T01:08:11.069999Z"
    }
   },
   "outputs": [],
   "source": [
    "import psycopg2 as pg\n",
    "import numpy as np\n",
    "import pandas as pd\n",
    "import datetime\n",
    "import logging\n",
    "import math"
   ]
  },
  {
   "cell_type": "code",
   "execution_count": 2,
   "metadata": {
    "ExecuteTime": {
     "end_time": "2017-12-07T01:08:11.660711Z",
     "start_time": "2017-12-07T01:08:11.532564Z"
    }
   },
   "outputs": [],
   "source": [
    "connection = pg.connect(\n",
    "    database=\"sidewalk\",\n",
    "    user=\"sidewalk\",\n",
    "    password=\"sidewalk\",\n",
    "    host=\"localhost\",\n",
    "    port=\"5432\" )"
   ]
  },
  {
   "cell_type": "code",
   "execution_count": 3,
   "metadata": {
    "ExecuteTime": {
     "end_time": "2017-12-07T01:08:11.692627Z",
     "start_time": "2017-12-07T01:08:11.662830Z"
    }
   },
   "outputs": [
    {
     "data": {
      "text/html": [
       "<div>\n",
       "<style scoped>\n",
       "    .dataframe tbody tr th:only-of-type {\n",
       "        vertical-align: middle;\n",
       "    }\n",
       "\n",
       "    .dataframe tbody tr th {\n",
       "        vertical-align: top;\n",
       "    }\n",
       "\n",
       "    .dataframe thead th {\n",
       "        text-align: right;\n",
       "    }\n",
       "</style>\n",
       "<table border=\"1\" class=\"dataframe\">\n",
       "  <thead>\n",
       "    <tr style=\"text-align: right;\">\n",
       "      <th></th>\n",
       "      <th>condition_id</th>\n",
       "      <th>worker_id</th>\n",
       "      <th>worker_id_type</th>\n",
       "    </tr>\n",
       "  </thead>\n",
       "  <tbody>\n",
       "    <tr>\n",
       "      <th>0</th>\n",
       "      <td>70</td>\n",
       "      <td>01232fef-5a19-4435-8be6-c0da3b38cabd</td>\n",
       "      <td>user_id</td>\n",
       "    </tr>\n",
       "    <tr>\n",
       "      <th>1</th>\n",
       "      <td>72</td>\n",
       "      <td>9501513f-3822-4921-861e-8f1440dee102</td>\n",
       "      <td>user_id</td>\n",
       "    </tr>\n",
       "    <tr>\n",
       "      <th>2</th>\n",
       "      <td>73</td>\n",
       "      <td>32f21407-253f-46ea-a01b-55bcf4ac2113</td>\n",
       "      <td>user_id</td>\n",
       "    </tr>\n",
       "    <tr>\n",
       "      <th>3</th>\n",
       "      <td>74</td>\n",
       "      <td>b65c0864-7c3a-4ba7-953b-50743a2634f6</td>\n",
       "      <td>user_id</td>\n",
       "    </tr>\n",
       "    <tr>\n",
       "      <th>4</th>\n",
       "      <td>75</td>\n",
       "      <td>0bfed786-ce24-43f9-9c58-084ae82ad175</td>\n",
       "      <td>user_id</td>\n",
       "    </tr>\n",
       "  </tbody>\n",
       "</table>\n",
       "</div>"
      ],
      "text/plain": [
       "   condition_id                             worker_id worker_id_type\n",
       "0            70  01232fef-5a19-4435-8be6-c0da3b38cabd        user_id\n",
       "1            72  9501513f-3822-4921-861e-8f1440dee102        user_id\n",
       "2            73  32f21407-253f-46ea-a01b-55bcf4ac2113        user_id\n",
       "3            74  b65c0864-7c3a-4ba7-953b-50743a2634f6        user_id\n",
       "4            75  0bfed786-ce24-43f9-9c58-084ae82ad175        user_id"
      ]
     },
     "execution_count": 3,
     "metadata": {},
     "output_type": "execute_result"
    }
   ],
   "source": [
    "vol_ids = pd.read_csv('../../data/interim/vol-ids.csv')\n",
    "vol_ids.head()"
   ]
  },
  {
   "cell_type": "code",
   "execution_count": 4,
   "metadata": {
    "ExecuteTime": {
     "end_time": "2017-12-07T01:08:11.704996Z",
     "start_time": "2017-12-07T01:08:11.694643Z"
    }
   },
   "outputs": [
    {
     "data": {
      "text/plain": [
       "['Click_LabelDelete',\n",
       " 'Click_ModeSwitch_CurbRamp',\n",
       " 'Click_ModeSwitch_NoCurbRamp',\n",
       " 'Click_ModeSwitch_NoSidewalk',\n",
       " 'Click_ModeSwitch_Obstacle']"
      ]
     },
     "execution_count": 4,
     "metadata": {},
     "output_type": "execute_result"
    }
   ],
   "source": [
    "event_types = pd.read_csv('../../data/interim/event-types.csv')\n",
    "event_types = event_types['event_type'].tolist()\n",
    "event_types[:5]"
   ]
  },
  {
   "cell_type": "code",
   "execution_count": 5,
   "metadata": {
    "ExecuteTime": {
     "end_time": "2017-12-07T01:08:11.723807Z",
     "start_time": "2017-12-07T01:08:11.707238Z"
    }
   },
   "outputs": [
    {
     "data": {
      "text/plain": [
       "['Click_LabelDelete_per_pan_mean',\n",
       " 'Click_LabelDelete_per_pan_std',\n",
       " 'Click_LabelDelete_total',\n",
       " 'Click_ModeSwitch_CurbRamp_per_pan_mean',\n",
       " 'Click_ModeSwitch_CurbRamp_per_pan_std']"
      ]
     },
     "execution_count": 5,
     "metadata": {},
     "output_type": "execute_result"
    }
   ],
   "source": [
    "feature_names = pd.read_csv('../../data/interim/feature-names.csv')\n",
    "feature_names = feature_names['feature'].tolist()\n",
    "feature_names[:5]"
   ]
  },
  {
   "cell_type": "code",
   "execution_count": 6,
   "metadata": {
    "ExecuteTime": {
     "end_time": "2017-12-07T01:08:11.742475Z",
     "start_time": "2017-12-07T01:08:11.729048Z"
    }
   },
   "outputs": [],
   "source": [
    "'''\n",
    "Queries to retreive volunteer interactions\n",
    "'''\n",
    "\n",
    "def get_audit_tasks(user_id):\n",
    "    return pd.read_sql(\n",
    "    '''\n",
    "        SELECT audit_task_id\n",
    "        FROM audit_task\n",
    "        WHERE user_id='%(user_id)s'\n",
    "    ''' % locals(), connection)\n",
    "\n",
    "def get_audit_interactions(audit_task_id):\n",
    "    return pd.read_sql(\n",
    "    '''\n",
    "        SELECT *\n",
    "        FROM audit_task_interaction\n",
    "        WHERE audit_task_id='%(audit_task_id)s'\n",
    "    ''' % locals(), connection)"
   ]
  },
  {
   "cell_type": "code",
   "execution_count": 7,
   "metadata": {
    "ExecuteTime": {
     "end_time": "2017-12-07T01:08:11.810163Z",
     "start_time": "2017-12-07T01:08:11.746079Z"
    }
   },
   "outputs": [],
   "source": [
    "'''\n",
    "Find the total, mean, and std of each event type\n",
    "'''\n",
    "\n",
    "def get_action_counts(audit_inter):\n",
    "    features = {}\n",
    "    \n",
    "    for action in event_types:\n",
    "        a = audit_inter[audit_inter['action'] == action]\n",
    "        g = a.groupby('gsv_panorama_id').size()\n",
    "        \n",
    "        total = len(a)\n",
    "        mean = g.mean()\n",
    "        std = g.std()\n",
    "        \n",
    "        # if there are too few elements to compute\n",
    "        if math.isnan(mean):\n",
    "            mean = 0\n",
    "            \n",
    "        if math.isnan(std):\n",
    "            std = 0\n",
    "            \n",
    "        features[action + '_total'] = total\n",
    "        features[action + '_per_pan_mean'] = mean\n",
    "        features[action + '_per_pan_std'] = std\n",
    "    \n",
    "    return features"
   ]
  },
  {
   "cell_type": "code",
   "execution_count": 8,
   "metadata": {
    "ExecuteTime": {
     "end_time": "2017-12-07T01:08:11.852710Z",
     "start_time": "2017-12-07T01:08:11.812593Z"
    }
   },
   "outputs": [],
   "source": [
    "'''\n",
    "Get features for a volunteer user\n",
    "'''\n",
    "\n",
    "def get_features(condition_id, user_id):\n",
    "    all_audit_interactions = None\n",
    "    \n",
    "    feature_df = pd.DataFrame(columns=(['condition_id', 'worker_id'] + feature_names))\n",
    "\n",
    "    audit_task_ids = get_audit_tasks(user_id)\n",
    "    \n",
    "    for audit_task_id in audit_task_ids.values:\n",
    "        audit_interactions = get_audit_interactions(audit_task_id[0])\n",
    "        \n",
    "        if all_audit_interactions is None:\n",
    "            all_audit_interactions = audit_interactions\n",
    "        else:\n",
    "            all_audit_interactions = all_audit_interactions.append(audit_interactions)\n",
    "            \n",
    "    if all_audit_interactions is None:\n",
    "        logging.warning('SKIPPING worker_id because no iteraction: ' + str(user_id))\n",
    "        return\n",
    "    action_counts = get_action_counts(all_audit_interactions)\n",
    "    \n",
    "    feature_list = [action_counts[feature] for feature in feature_names]\n",
    "    feature_df.loc[len(feature_df)] = [condition_id, user_id] + feature_list\n",
    "    return feature_df"
   ]
  },
  {
   "cell_type": "code",
   "execution_count": 9,
   "metadata": {
    "ExecuteTime": {
     "end_time": "2017-12-07T01:08:53.875187Z",
     "start_time": "2017-12-07T01:08:11.855123Z"
    }
   },
   "outputs": [],
   "source": [
    "'''\n",
    "Get features for each volunteer\n",
    "'''\n",
    "\n",
    "features = None\n",
    "\n",
    "# exclude ip_address ids\n",
    "selected_vols = vol_ids[vol_ids['worker_id_type'] == 'user_id']\n",
    "\n",
    "for i, user in selected_vols.iterrows():\n",
    "    \n",
    "    f = get_features(user['condition_id'], user['worker_id'])\n",
    "    if features is None:\n",
    "        features = f\n",
    "    else:\n",
    "        features = features.append(f)\n",
    "\n",
    "features.reset_index(inplace=True)"
   ]
  },
  {
   "cell_type": "code",
   "execution_count": 10,
   "metadata": {
    "ExecuteTime": {
     "end_time": "2017-12-07T01:08:53.921742Z",
     "start_time": "2017-12-07T01:08:53.877153Z"
    }
   },
   "outputs": [
    {
     "data": {
      "text/html": [
       "<div>\n",
       "<style scoped>\n",
       "    .dataframe tbody tr th:only-of-type {\n",
       "        vertical-align: middle;\n",
       "    }\n",
       "\n",
       "    .dataframe tbody tr th {\n",
       "        vertical-align: top;\n",
       "    }\n",
       "\n",
       "    .dataframe thead th {\n",
       "        text-align: right;\n",
       "    }\n",
       "</style>\n",
       "<table border=\"1\" class=\"dataframe\">\n",
       "  <thead>\n",
       "    <tr style=\"text-align: right;\">\n",
       "      <th></th>\n",
       "      <th>index</th>\n",
       "      <th>condition_id</th>\n",
       "      <th>worker_id</th>\n",
       "      <th>Click_LabelDelete_per_pan_mean</th>\n",
       "      <th>Click_LabelDelete_per_pan_std</th>\n",
       "      <th>Click_LabelDelete_total</th>\n",
       "      <th>Click_ModeSwitch_CurbRamp_per_pan_mean</th>\n",
       "      <th>Click_ModeSwitch_CurbRamp_per_pan_std</th>\n",
       "      <th>Click_ModeSwitch_CurbRamp_total</th>\n",
       "      <th>Click_ModeSwitch_NoCurbRamp_per_pan_mean</th>\n",
       "      <th>...</th>\n",
       "      <th>ViewControl_DoubleClick_total</th>\n",
       "      <th>ViewControl_MouseDown_per_pan_mean</th>\n",
       "      <th>ViewControl_MouseDown_per_pan_std</th>\n",
       "      <th>ViewControl_MouseDown_total</th>\n",
       "      <th>ViewControl_MouseUp_per_pan_mean</th>\n",
       "      <th>ViewControl_MouseUp_per_pan_std</th>\n",
       "      <th>ViewControl_MouseUp_total</th>\n",
       "      <th>WalkTowards_per_pan_mean</th>\n",
       "      <th>WalkTowards_per_pan_std</th>\n",
       "      <th>WalkTowards_total</th>\n",
       "    </tr>\n",
       "  </thead>\n",
       "  <tbody>\n",
       "    <tr>\n",
       "      <th>0</th>\n",
       "      <td>0</td>\n",
       "      <td>70</td>\n",
       "      <td>01232fef-5a19-4435-8be6-c0da3b38cabd</td>\n",
       "      <td>1</td>\n",
       "      <td>0</td>\n",
       "      <td>4</td>\n",
       "      <td>2.204545</td>\n",
       "      <td>1.24974</td>\n",
       "      <td>97</td>\n",
       "      <td>1.58824</td>\n",
       "      <td>...</td>\n",
       "      <td>137</td>\n",
       "      <td>2.395200</td>\n",
       "      <td>2.899322</td>\n",
       "      <td>1497</td>\n",
       "      <td>2.358400</td>\n",
       "      <td>2.775153</td>\n",
       "      <td>1474</td>\n",
       "      <td>0</td>\n",
       "      <td>0</td>\n",
       "      <td>0</td>\n",
       "    </tr>\n",
       "    <tr>\n",
       "      <th>1</th>\n",
       "      <td>0</td>\n",
       "      <td>72</td>\n",
       "      <td>9501513f-3822-4921-861e-8f1440dee102</td>\n",
       "      <td>1</td>\n",
       "      <td>0</td>\n",
       "      <td>1</td>\n",
       "      <td>1.943925</td>\n",
       "      <td>1.29463</td>\n",
       "      <td>208</td>\n",
       "      <td>1.42553</td>\n",
       "      <td>...</td>\n",
       "      <td>63</td>\n",
       "      <td>2.187234</td>\n",
       "      <td>1.966415</td>\n",
       "      <td>1028</td>\n",
       "      <td>2.170213</td>\n",
       "      <td>1.926354</td>\n",
       "      <td>1020</td>\n",
       "      <td>0</td>\n",
       "      <td>0</td>\n",
       "      <td>0</td>\n",
       "    </tr>\n",
       "    <tr>\n",
       "      <th>2</th>\n",
       "      <td>0</td>\n",
       "      <td>73</td>\n",
       "      <td>32f21407-253f-46ea-a01b-55bcf4ac2113</td>\n",
       "      <td>1.16667</td>\n",
       "      <td>0.408248</td>\n",
       "      <td>7</td>\n",
       "      <td>3.247059</td>\n",
       "      <td>2.09254</td>\n",
       "      <td>276</td>\n",
       "      <td>1.4</td>\n",
       "      <td>...</td>\n",
       "      <td>33</td>\n",
       "      <td>3.468619</td>\n",
       "      <td>4.165605</td>\n",
       "      <td>1658</td>\n",
       "      <td>3.351464</td>\n",
       "      <td>4.002346</td>\n",
       "      <td>1602</td>\n",
       "      <td>0</td>\n",
       "      <td>0</td>\n",
       "      <td>0</td>\n",
       "    </tr>\n",
       "    <tr>\n",
       "      <th>3</th>\n",
       "      <td>0</td>\n",
       "      <td>74</td>\n",
       "      <td>b65c0864-7c3a-4ba7-953b-50743a2634f6</td>\n",
       "      <td>1.33333</td>\n",
       "      <td>0.57735</td>\n",
       "      <td>4</td>\n",
       "      <td>1.874172</td>\n",
       "      <td>1.3181</td>\n",
       "      <td>283</td>\n",
       "      <td>1.32353</td>\n",
       "      <td>...</td>\n",
       "      <td>4</td>\n",
       "      <td>2.286598</td>\n",
       "      <td>2.967163</td>\n",
       "      <td>1109</td>\n",
       "      <td>2.255670</td>\n",
       "      <td>2.831456</td>\n",
       "      <td>1094</td>\n",
       "      <td>0</td>\n",
       "      <td>0</td>\n",
       "      <td>0</td>\n",
       "    </tr>\n",
       "    <tr>\n",
       "      <th>4</th>\n",
       "      <td>0</td>\n",
       "      <td>75</td>\n",
       "      <td>0bfed786-ce24-43f9-9c58-084ae82ad175</td>\n",
       "      <td>1</td>\n",
       "      <td>0</td>\n",
       "      <td>4</td>\n",
       "      <td>3.200000</td>\n",
       "      <td>2.388</td>\n",
       "      <td>128</td>\n",
       "      <td>1.66667</td>\n",
       "      <td>...</td>\n",
       "      <td>8</td>\n",
       "      <td>4.848684</td>\n",
       "      <td>6.557701</td>\n",
       "      <td>737</td>\n",
       "      <td>4.651316</td>\n",
       "      <td>6.087943</td>\n",
       "      <td>707</td>\n",
       "      <td>0</td>\n",
       "      <td>0</td>\n",
       "      <td>0</td>\n",
       "    </tr>\n",
       "  </tbody>\n",
       "</table>\n",
       "<p>5 rows × 330 columns</p>\n",
       "</div>"
      ],
      "text/plain": [
       "   index condition_id                             worker_id  \\\n",
       "0      0           70  01232fef-5a19-4435-8be6-c0da3b38cabd   \n",
       "1      0           72  9501513f-3822-4921-861e-8f1440dee102   \n",
       "2      0           73  32f21407-253f-46ea-a01b-55bcf4ac2113   \n",
       "3      0           74  b65c0864-7c3a-4ba7-953b-50743a2634f6   \n",
       "4      0           75  0bfed786-ce24-43f9-9c58-084ae82ad175   \n",
       "\n",
       "  Click_LabelDelete_per_pan_mean Click_LabelDelete_per_pan_std  \\\n",
       "0                              1                             0   \n",
       "1                              1                             0   \n",
       "2                        1.16667                      0.408248   \n",
       "3                        1.33333                       0.57735   \n",
       "4                              1                             0   \n",
       "\n",
       "  Click_LabelDelete_total  Click_ModeSwitch_CurbRamp_per_pan_mean  \\\n",
       "0                       4                                2.204545   \n",
       "1                       1                                1.943925   \n",
       "2                       7                                3.247059   \n",
       "3                       4                                1.874172   \n",
       "4                       4                                3.200000   \n",
       "\n",
       "  Click_ModeSwitch_CurbRamp_per_pan_std Click_ModeSwitch_CurbRamp_total  \\\n",
       "0                               1.24974                              97   \n",
       "1                               1.29463                             208   \n",
       "2                               2.09254                             276   \n",
       "3                                1.3181                             283   \n",
       "4                                 2.388                             128   \n",
       "\n",
       "  Click_ModeSwitch_NoCurbRamp_per_pan_mean        ...         \\\n",
       "0                                  1.58824        ...          \n",
       "1                                  1.42553        ...          \n",
       "2                                      1.4        ...          \n",
       "3                                  1.32353        ...          \n",
       "4                                  1.66667        ...          \n",
       "\n",
       "  ViewControl_DoubleClick_total ViewControl_MouseDown_per_pan_mean  \\\n",
       "0                           137                           2.395200   \n",
       "1                            63                           2.187234   \n",
       "2                            33                           3.468619   \n",
       "3                             4                           2.286598   \n",
       "4                             8                           4.848684   \n",
       "\n",
       "  ViewControl_MouseDown_per_pan_std ViewControl_MouseDown_total  \\\n",
       "0                          2.899322                        1497   \n",
       "1                          1.966415                        1028   \n",
       "2                          4.165605                        1658   \n",
       "3                          2.967163                        1109   \n",
       "4                          6.557701                         737   \n",
       "\n",
       "  ViewControl_MouseUp_per_pan_mean ViewControl_MouseUp_per_pan_std  \\\n",
       "0                         2.358400                        2.775153   \n",
       "1                         2.170213                        1.926354   \n",
       "2                         3.351464                        4.002346   \n",
       "3                         2.255670                        2.831456   \n",
       "4                         4.651316                        6.087943   \n",
       "\n",
       "  ViewControl_MouseUp_total WalkTowards_per_pan_mean WalkTowards_per_pan_std  \\\n",
       "0                      1474                        0                       0   \n",
       "1                      1020                        0                       0   \n",
       "2                      1602                        0                       0   \n",
       "3                      1094                        0                       0   \n",
       "4                       707                        0                       0   \n",
       "\n",
       "  WalkTowards_total  \n",
       "0                 0  \n",
       "1                 0  \n",
       "2                 0  \n",
       "3                 0  \n",
       "4                 0  \n",
       "\n",
       "[5 rows x 330 columns]"
      ]
     },
     "execution_count": 10,
     "metadata": {},
     "output_type": "execute_result"
    }
   ],
   "source": [
    "features.head()"
   ]
  },
  {
   "cell_type": "code",
   "execution_count": 11,
   "metadata": {
    "ExecuteTime": {
     "end_time": "2017-12-07T01:08:53.930737Z",
     "start_time": "2017-12-07T01:08:53.924069Z"
    }
   },
   "outputs": [
    {
     "data": {
      "text/plain": [
       "44"
      ]
     },
     "execution_count": 11,
     "metadata": {},
     "output_type": "execute_result"
    }
   ],
   "source": [
    "len(features)"
   ]
  },
  {
   "cell_type": "code",
   "execution_count": 12,
   "metadata": {
    "ExecuteTime": {
     "end_time": "2017-12-07T01:08:53.938165Z",
     "start_time": "2017-12-07T01:08:53.933366Z"
    }
   },
   "outputs": [
    {
     "data": {
      "text/plain": [
       "44"
      ]
     },
     "execution_count": 12,
     "metadata": {},
     "output_type": "execute_result"
    }
   ],
   "source": [
    "len(selected_vols)"
   ]
  },
  {
   "cell_type": "code",
   "execution_count": 13,
   "metadata": {
    "ExecuteTime": {
     "end_time": "2017-12-07T01:08:53.965763Z",
     "start_time": "2017-12-07T01:08:53.942115Z"
    }
   },
   "outputs": [],
   "source": [
    "del features['index']\n",
    "features.to_csv('../../data/interim/collected/vol-features.csv', index=False)"
   ]
  }
 ],
 "metadata": {
  "kernelspec": {
   "display_name": "Python 3",
   "language": "python",
   "name": "python3"
  },
  "language_info": {
   "codemirror_mode": {
    "name": "ipython",
    "version": 3
   },
   "file_extension": ".py",
   "mimetype": "text/x-python",
   "name": "python",
   "nbconvert_exporter": "python",
   "pygments_lexer": "ipython3",
   "version": "3.6.3"
  }
 },
 "nbformat": 4,
 "nbformat_minor": 2
}
