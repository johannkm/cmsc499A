{
 "cells": [
  {
   "cell_type": "markdown",
   "metadata": {},
   "source": [
    "# User behavior as a predictor for input accuracy\n",
    "Johann Miller, University of Maryland Makeability Lab"
   ]
  },
  {
   "cell_type": "markdown",
   "metadata": {
    "ExecuteTime": {
     "end_time": "2017-12-04T20:54:40.917474Z",
     "start_time": "2017-12-04T20:54:40.912853Z"
    }
   },
   "source": [
    "## Introduction\n",
    "[Project Sidewalk](http://sidewalk.umiacs.umd.edu) is an online platform for identifying accessibility problems in sidewalks. Users navigate streets using Google Street View, and place labels on issues such as crosswalks without curbramps, uneven pavement, and obstacles blocking the path. In order to ensure some level of accuracy in the data, Project Sidewalk can use a couple tools. Each user has to complete a tutorial before they can begin to report problems. Another option is ground truth seeding, where users place labels in a region that already has established answers. If the user enters data that doesn't match the ground truth, then all of the data they entered can be flagged.\n",
    "\n",
    "Here, we will investigate another possible option: using the user's interactions with the tool to predict their accuracy. Consider a user who is inactive for long periods, and barely uses any of the tool's features. This user probably gives worse input than a user who works consistently and employs all of the tool's features. Aspects of interaction include mouse movement, keypresses, and others that we can collect while users place labels. If accurate labels correspond to a certain type of usage, then these features could predict the accuracy of a user even in non ground truth regions.\n",
    "\n",
    "To see if this is possible, we'll use data from ground truth regions to train and test a classifier.\n",
    "\n",
    "## Setup python notebook"
   ]
  },
  {
   "cell_type": "code",
   "execution_count": 11,
   "metadata": {
    "ExecuteTime": {
     "end_time": "2017-12-06T17:44:25.876021Z",
     "start_time": "2017-12-06T17:44:25.643303Z"
    }
   },
   "outputs": [],
   "source": [
    "import pandas as pd\n",
    "import psycopg2 as pg\n",
    "\n",
    "# connect to volunteer database\n",
    "vol_con = pg.connect(database=\"sidewalk\", user=\"sidewalk\", password=\"sidewalk\", host=\"localhost\", port=\"5432\" )\n",
    "\n",
    "# connect to turker database\n",
    "turk_con = pg.connect(database=\"sidewalk_turker\", user=\"sidewalk\", password=\"sidewalk\", host=\"localhost\", port=\"5432\" )"
   ]
  },
  {
   "cell_type": "code",
   "execution_count": 12,
   "metadata": {
    "ExecuteTime": {
     "end_time": "2017-12-06T17:44:25.881999Z",
     "start_time": "2017-12-06T17:44:25.877519Z"
    }
   },
   "outputs": [
    {
     "data": {
      "text/html": [
       "<style>\n",
       "img {margin-left: 0}\n",
       "</style>"
      ],
      "text/plain": [
       "<IPython.core.display.HTML object>"
      ]
     },
     "metadata": {},
     "output_type": "display_data"
    }
   ],
   "source": [
    "%%html\n",
    "<style>\n",
    "img {margin-left: 0}\n",
    "</style>"
   ]
  },
  {
   "cell_type": "markdown",
   "metadata": {},
   "source": [
    "## Collecting user events\n",
    "Project Sidewalk has logs for variety of user events. The events range from low-level (mouse movements, clicks, etc.) to high-level (zoom in/out, changing label mode, etc.). If we query the interaction table, we can see all the event types."
   ]
  },
  {
   "cell_type": "code",
   "execution_count": 13,
   "metadata": {
    "ExecuteTime": {
     "end_time": "2017-12-06T17:44:31.631398Z",
     "start_time": "2017-12-06T17:44:26.143134Z"
    }
   },
   "outputs": [
    {
     "name": "stdout",
     "output_type": "stream",
     "text": [
      "Number of event types: 109\n"
     ]
    },
    {
     "data": {
      "text/html": [
       "<div>\n",
       "<style>\n",
       "    .dataframe thead tr:only-child th {\n",
       "        text-align: right;\n",
       "    }\n",
       "\n",
       "    .dataframe thead th {\n",
       "        text-align: left;\n",
       "    }\n",
       "\n",
       "    .dataframe tbody tr th {\n",
       "        vertical-align: top;\n",
       "    }\n",
       "</style>\n",
       "<table border=\"1\" class=\"dataframe\">\n",
       "  <thead>\n",
       "    <tr style=\"text-align: right;\">\n",
       "      <th></th>\n",
       "      <th>action</th>\n",
       "    </tr>\n",
       "  </thead>\n",
       "  <tbody>\n",
       "    <tr>\n",
       "      <th>0</th>\n",
       "      <td>ModeSwitch_Walk</td>\n",
       "    </tr>\n",
       "    <tr>\n",
       "      <th>1</th>\n",
       "      <td>KeyboardShortcut_ModeSwitch_CurbRamp</td>\n",
       "    </tr>\n",
       "    <tr>\n",
       "      <th>2</th>\n",
       "      <td>ViewControl_DoubleClick</td>\n",
       "    </tr>\n",
       "    <tr>\n",
       "      <th>3</th>\n",
       "      <td>KeyboardShortcut_ClickOk</td>\n",
       "    </tr>\n",
       "    <tr>\n",
       "      <th>4</th>\n",
       "      <td>KeyUp</td>\n",
       "    </tr>\n",
       "  </tbody>\n",
       "</table>\n",
       "</div>"
      ],
      "text/plain": [
       "                                 action\n",
       "0                       ModeSwitch_Walk\n",
       "1  KeyboardShortcut_ModeSwitch_CurbRamp\n",
       "2               ViewControl_DoubleClick\n",
       "3              KeyboardShortcut_ClickOk\n",
       "4                                 KeyUp"
      ]
     },
     "execution_count": 13,
     "metadata": {},
     "output_type": "execute_result"
    }
   ],
   "source": [
    "event_types = pd.read_sql(\n",
    "'''\n",
    "SELECT DISTINCT action\n",
    "FROM audit_task_interaction\n",
    "''', vol_con)\n",
    "\n",
    "print(\"Number of event types:\", len(event_types))\n",
    "event_types.head()"
   ]
  },
  {
   "cell_type": "markdown",
   "metadata": {},
   "source": [
    "For each user session, we have a collection of the events that were triggered. In order to compare two sessions, we can look at the total number of each type of event. We also look at the mean and standard deviation of the number of events per Google Street View panorama. This way, a user session in a large region can be compared fairly to a session in a smaller region since the former will have more panoramas.\n",
    "\n",
    "We can load in these event counts from `features.csv`. This file was created by **TODO**."
   ]
  },
  {
   "cell_type": "code",
   "execution_count": 14,
   "metadata": {
    "ExecuteTime": {
     "end_time": "2017-12-06T17:44:31.697541Z",
     "start_time": "2017-12-06T17:44:31.633584Z"
    }
   },
   "outputs": [
    {
     "data": {
      "text/html": [
       "<div>\n",
       "<style>\n",
       "    .dataframe thead tr:only-child th {\n",
       "        text-align: right;\n",
       "    }\n",
       "\n",
       "    .dataframe thead th {\n",
       "        text-align: left;\n",
       "    }\n",
       "\n",
       "    .dataframe tbody tr th {\n",
       "        vertical-align: top;\n",
       "    }\n",
       "</style>\n",
       "<table border=\"1\" class=\"dataframe\">\n",
       "  <thead>\n",
       "    <tr style=\"text-align: right;\">\n",
       "      <th></th>\n",
       "      <th>Click_LabelDelete_per_pan_mean</th>\n",
       "      <th>Click_LabelDelete_per_pan_std</th>\n",
       "      <th>Click_LabelDelete_total</th>\n",
       "      <th>Click_ModeSwitch_CurbRamp_per_pan_mean</th>\n",
       "      <th>Click_ModeSwitch_CurbRamp_per_pan_std</th>\n",
       "      <th>Click_ModeSwitch_CurbRamp_total</th>\n",
       "      <th>Click_ModeSwitch_NoCurbRamp_per_pan_mean</th>\n",
       "      <th>Click_ModeSwitch_NoCurbRamp_per_pan_std</th>\n",
       "      <th>Click_ModeSwitch_NoCurbRamp_total</th>\n",
       "      <th>Click_ModeSwitch_NoSidewalk_per_pan_mean</th>\n",
       "      <th>...</th>\n",
       "      <th>ViewControl_DoubleClick_total</th>\n",
       "      <th>ViewControl_MouseDown_per_pan_mean</th>\n",
       "      <th>ViewControl_MouseDown_per_pan_std</th>\n",
       "      <th>ViewControl_MouseDown_total</th>\n",
       "      <th>ViewControl_MouseUp_per_pan_mean</th>\n",
       "      <th>ViewControl_MouseUp_per_pan_std</th>\n",
       "      <th>ViewControl_MouseUp_total</th>\n",
       "      <th>WalkTowards_per_pan_mean</th>\n",
       "      <th>WalkTowards_per_pan_std</th>\n",
       "      <th>WalkTowards_total</th>\n",
       "    </tr>\n",
       "  </thead>\n",
       "  <tbody>\n",
       "    <tr>\n",
       "      <th>143</th>\n",
       "      <td>0.000000</td>\n",
       "      <td>0.000000</td>\n",
       "      <td>0</td>\n",
       "      <td>1.714286</td>\n",
       "      <td>0.487950</td>\n",
       "      <td>12</td>\n",
       "      <td>1.000000</td>\n",
       "      <td>0.000000</td>\n",
       "      <td>2</td>\n",
       "      <td>0</td>\n",
       "      <td>...</td>\n",
       "      <td>0</td>\n",
       "      <td>2.111111</td>\n",
       "      <td>1.707659</td>\n",
       "      <td>209</td>\n",
       "      <td>2.030303</td>\n",
       "      <td>1.554812</td>\n",
       "      <td>201</td>\n",
       "      <td>0</td>\n",
       "      <td>0</td>\n",
       "      <td>0</td>\n",
       "    </tr>\n",
       "    <tr>\n",
       "      <th>471</th>\n",
       "      <td>0.000000</td>\n",
       "      <td>0.000000</td>\n",
       "      <td>0</td>\n",
       "      <td>2.666667</td>\n",
       "      <td>1.230915</td>\n",
       "      <td>32</td>\n",
       "      <td>2.000000</td>\n",
       "      <td>1.732051</td>\n",
       "      <td>6</td>\n",
       "      <td>0</td>\n",
       "      <td>...</td>\n",
       "      <td>51</td>\n",
       "      <td>5.944444</td>\n",
       "      <td>4.839979</td>\n",
       "      <td>214</td>\n",
       "      <td>5.777778</td>\n",
       "      <td>4.573908</td>\n",
       "      <td>208</td>\n",
       "      <td>0</td>\n",
       "      <td>0</td>\n",
       "      <td>0</td>\n",
       "    </tr>\n",
       "    <tr>\n",
       "      <th>140</th>\n",
       "      <td>0.000000</td>\n",
       "      <td>0.000000</td>\n",
       "      <td>0</td>\n",
       "      <td>1.714286</td>\n",
       "      <td>0.487950</td>\n",
       "      <td>12</td>\n",
       "      <td>1.000000</td>\n",
       "      <td>0.000000</td>\n",
       "      <td>2</td>\n",
       "      <td>0</td>\n",
       "      <td>...</td>\n",
       "      <td>0</td>\n",
       "      <td>2.111111</td>\n",
       "      <td>1.707659</td>\n",
       "      <td>209</td>\n",
       "      <td>2.030303</td>\n",
       "      <td>1.554812</td>\n",
       "      <td>201</td>\n",
       "      <td>0</td>\n",
       "      <td>0</td>\n",
       "      <td>0</td>\n",
       "    </tr>\n",
       "    <tr>\n",
       "      <th>232</th>\n",
       "      <td>1.608696</td>\n",
       "      <td>1.587998</td>\n",
       "      <td>37</td>\n",
       "      <td>2.428571</td>\n",
       "      <td>1.727959</td>\n",
       "      <td>272</td>\n",
       "      <td>1.516129</td>\n",
       "      <td>0.889605</td>\n",
       "      <td>47</td>\n",
       "      <td>0</td>\n",
       "      <td>...</td>\n",
       "      <td>27</td>\n",
       "      <td>4.533898</td>\n",
       "      <td>7.961681</td>\n",
       "      <td>1605</td>\n",
       "      <td>4.272727</td>\n",
       "      <td>6.893950</td>\n",
       "      <td>1504</td>\n",
       "      <td>0</td>\n",
       "      <td>0</td>\n",
       "      <td>0</td>\n",
       "    </tr>\n",
       "    <tr>\n",
       "      <th>28</th>\n",
       "      <td>1.000000</td>\n",
       "      <td>0.000000</td>\n",
       "      <td>4</td>\n",
       "      <td>3.200000</td>\n",
       "      <td>2.388004</td>\n",
       "      <td>128</td>\n",
       "      <td>1.666667</td>\n",
       "      <td>0.577350</td>\n",
       "      <td>5</td>\n",
       "      <td>0</td>\n",
       "      <td>...</td>\n",
       "      <td>8</td>\n",
       "      <td>4.848684</td>\n",
       "      <td>6.557701</td>\n",
       "      <td>737</td>\n",
       "      <td>4.651316</td>\n",
       "      <td>6.087943</td>\n",
       "      <td>707</td>\n",
       "      <td>0</td>\n",
       "      <td>0</td>\n",
       "      <td>0</td>\n",
       "    </tr>\n",
       "  </tbody>\n",
       "</table>\n",
       "<p>5 rows × 327 columns</p>\n",
       "</div>"
      ],
      "text/plain": [
       "     Click_LabelDelete_per_pan_mean  Click_LabelDelete_per_pan_std  \\\n",
       "143                        0.000000                       0.000000   \n",
       "471                        0.000000                       0.000000   \n",
       "140                        0.000000                       0.000000   \n",
       "232                        1.608696                       1.587998   \n",
       "28                         1.000000                       0.000000   \n",
       "\n",
       "     Click_LabelDelete_total  Click_ModeSwitch_CurbRamp_per_pan_mean  \\\n",
       "143                        0                                1.714286   \n",
       "471                        0                                2.666667   \n",
       "140                        0                                1.714286   \n",
       "232                       37                                2.428571   \n",
       "28                         4                                3.200000   \n",
       "\n",
       "     Click_ModeSwitch_CurbRamp_per_pan_std  Click_ModeSwitch_CurbRamp_total  \\\n",
       "143                               0.487950                               12   \n",
       "471                               1.230915                               32   \n",
       "140                               0.487950                               12   \n",
       "232                               1.727959                              272   \n",
       "28                                2.388004                              128   \n",
       "\n",
       "     Click_ModeSwitch_NoCurbRamp_per_pan_mean  \\\n",
       "143                                  1.000000   \n",
       "471                                  2.000000   \n",
       "140                                  1.000000   \n",
       "232                                  1.516129   \n",
       "28                                   1.666667   \n",
       "\n",
       "     Click_ModeSwitch_NoCurbRamp_per_pan_std  \\\n",
       "143                                 0.000000   \n",
       "471                                 1.732051   \n",
       "140                                 0.000000   \n",
       "232                                 0.889605   \n",
       "28                                  0.577350   \n",
       "\n",
       "     Click_ModeSwitch_NoCurbRamp_total  \\\n",
       "143                                  2   \n",
       "471                                  6   \n",
       "140                                  2   \n",
       "232                                 47   \n",
       "28                                   5   \n",
       "\n",
       "     Click_ModeSwitch_NoSidewalk_per_pan_mean        ...          \\\n",
       "143                                         0        ...           \n",
       "471                                         0        ...           \n",
       "140                                         0        ...           \n",
       "232                                         0        ...           \n",
       "28                                          0        ...           \n",
       "\n",
       "     ViewControl_DoubleClick_total  ViewControl_MouseDown_per_pan_mean  \\\n",
       "143                              0                            2.111111   \n",
       "471                             51                            5.944444   \n",
       "140                              0                            2.111111   \n",
       "232                             27                            4.533898   \n",
       "28                               8                            4.848684   \n",
       "\n",
       "     ViewControl_MouseDown_per_pan_std  ViewControl_MouseDown_total  \\\n",
       "143                           1.707659                          209   \n",
       "471                           4.839979                          214   \n",
       "140                           1.707659                          209   \n",
       "232                           7.961681                         1605   \n",
       "28                            6.557701                          737   \n",
       "\n",
       "     ViewControl_MouseUp_per_pan_mean  ViewControl_MouseUp_per_pan_std  \\\n",
       "143                          2.030303                         1.554812   \n",
       "471                          5.777778                         4.573908   \n",
       "140                          2.030303                         1.554812   \n",
       "232                          4.272727                         6.893950   \n",
       "28                           4.651316                         6.087943   \n",
       "\n",
       "     ViewControl_MouseUp_total  WalkTowards_per_pan_mean  \\\n",
       "143                        201                         0   \n",
       "471                        208                         0   \n",
       "140                        201                         0   \n",
       "232                       1504                         0   \n",
       "28                         707                         0   \n",
       "\n",
       "     WalkTowards_per_pan_std  WalkTowards_total  \n",
       "143                        0                  0  \n",
       "471                        0                  0  \n",
       "140                        0                  0  \n",
       "232                        0                  0  \n",
       "28                         0                  0  \n",
       "\n",
       "[5 rows x 327 columns]"
      ]
     },
     "execution_count": 14,
     "metadata": {},
     "output_type": "execute_result"
    }
   ],
   "source": [
    "features = pd.read_csv('features.csv', index_col=0)\n",
    "features.sample(n=5)"
   ]
  },
  {
   "cell_type": "markdown",
   "metadata": {},
   "source": [
    "## Grading user accuracy\n",
    "We need to rate each user session on its accuracy compared to the ground truth. We do so by counting the number of true positives, false positives, true negatives, and false negatives from the session. These are defined as follows:\n",
    "\n",
    "#### True positive\n",
    "The user placed a correct label. Here, the green icon is a label for a curb ramp. The user placed it correctly, so this is a true positive.\n",
    "\n",
    "![true positive](images/true-pos.png)\n",
    "\n",
    "#### False positive\n",
    "The user placed an incorrect label. Here, the user placed a green icon to identify a curb ramp, but none are present.\n",
    "\n",
    "![false positive](images/false-pos.png)\n",
    "\n",
    "#### True negative\n",
    "There was nothing to label, and the user didn't label anything.\n",
    "\n",
    "![true negative](images/true-neg.png)\n",
    "\n",
    "#### False negative\n",
    "There was something to label, but the user missed it. Here, there is a curb ramp with no label.\n",
    "\n",
    "![false negative](images/false-neg.png)"
   ]
  },
  {
   "cell_type": "markdown",
   "metadata": {},
   "source": [
    "$\\text{precision} = \\frac{\\text{true positives}}{\\text{true positives + false positives}}$\n",
    "\n",
    "$\\text{recall} = \\frac{\\text{true positives}}{\\text{true positives + false negatives}}$\n",
    "\n",
    "$\\text{specificity} = \\frac{\\text{true positives}}{\\text{true positives + true negatives}}$\n",
    "\n",
    "$\\text{accuracy} = \\frac{\\text{true positives + true negatives}}{\\text{true positives + false positives + true negatives + false negatives}}$\n",
    "\n",
    "$\\text{F1 score} = \\frac{\\text{2 * true positives}}{\\text{2 * true positives + false positives + false negatives}}$"
   ]
  },
  {
   "cell_type": "code",
   "execution_count": null,
   "metadata": {},
   "outputs": [],
   "source": [
    " "
   ]
  },
  {
   "cell_type": "code",
   "execution_count": 15,
   "metadata": {
    "ExecuteTime": {
     "end_time": "2017-12-06T17:44:31.712040Z",
     "start_time": "2017-12-06T17:44:31.699508Z"
    }
   },
   "outputs": [
    {
     "data": {
      "text/html": [
       "<div>\n",
       "<style>\n",
       "    .dataframe thead tr:only-child th {\n",
       "        text-align: right;\n",
       "    }\n",
       "\n",
       "    .dataframe thead th {\n",
       "        text-align: left;\n",
       "    }\n",
       "\n",
       "    .dataframe tbody tr th {\n",
       "        vertical-align: top;\n",
       "    }\n",
       "</style>\n",
       "<table border=\"1\" class=\"dataframe\">\n",
       "  <thead>\n",
       "    <tr style=\"text-align: right;\">\n",
       "      <th></th>\n",
       "      <th>precision</th>\n",
       "      <th>recall</th>\n",
       "      <th>specificity</th>\n",
       "      <th>f.measure</th>\n",
       "    </tr>\n",
       "  </thead>\n",
       "  <tbody>\n",
       "    <tr>\n",
       "      <th>22</th>\n",
       "      <td>0.372549</td>\n",
       "      <td>1.000000</td>\n",
       "      <td>0.776224</td>\n",
       "      <td>0.542857</td>\n",
       "    </tr>\n",
       "    <tr>\n",
       "      <th>350</th>\n",
       "      <td>0.750000</td>\n",
       "      <td>0.044118</td>\n",
       "      <td>0.994536</td>\n",
       "      <td>0.083333</td>\n",
       "    </tr>\n",
       "    <tr>\n",
       "      <th>380</th>\n",
       "      <td>0.142857</td>\n",
       "      <td>0.500000</td>\n",
       "      <td>0.970000</td>\n",
       "      <td>0.222222</td>\n",
       "    </tr>\n",
       "    <tr>\n",
       "      <th>475</th>\n",
       "      <td>0.400000</td>\n",
       "      <td>0.250000</td>\n",
       "      <td>0.984536</td>\n",
       "      <td>0.307692</td>\n",
       "    </tr>\n",
       "    <tr>\n",
       "      <th>85</th>\n",
       "      <td>0.562500</td>\n",
       "      <td>0.750000</td>\n",
       "      <td>0.935780</td>\n",
       "      <td>0.642857</td>\n",
       "    </tr>\n",
       "  </tbody>\n",
       "</table>\n",
       "</div>"
      ],
      "text/plain": [
       "     precision    recall  specificity  f.measure\n",
       "22    0.372549  1.000000     0.776224   0.542857\n",
       "350   0.750000  0.044118     0.994536   0.083333\n",
       "380   0.142857  0.500000     0.970000   0.222222\n",
       "475   0.400000  0.250000     0.984536   0.307692\n",
       "85    0.562500  0.750000     0.935780   0.642857"
      ]
     },
     "execution_count": 15,
     "metadata": {},
     "output_type": "execute_result"
    }
   ],
   "source": [
    "labels = pd.read_csv('labels.csv', index_col=0)\n",
    "labels.sample(n=5)"
   ]
  },
  {
   "cell_type": "code",
   "execution_count": null,
   "metadata": {},
   "outputs": [],
   "source": []
  }
 ],
 "metadata": {
  "kernelspec": {
   "display_name": "Python 3",
   "language": "python",
   "name": "python3"
  },
  "language_info": {
   "codemirror_mode": {
    "name": "ipython",
    "version": 3
   },
   "file_extension": ".py",
   "mimetype": "text/x-python",
   "name": "python",
   "nbconvert_exporter": "python",
   "pygments_lexer": "ipython3",
   "version": "3.6.3"
  }
 },
 "nbformat": 4,
 "nbformat_minor": 2
}
