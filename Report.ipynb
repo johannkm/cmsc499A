{
 "cells": [
  {
   "cell_type": "markdown",
   "metadata": {},
   "source": [
    "# User behavior as a predictor for input accuracy\n",
    "Johann Miller, University of Maryland Makeability Lab"
   ]
  },
  {
   "cell_type": "markdown",
   "metadata": {
    "ExecuteTime": {
     "end_time": "2017-12-04T20:54:40.917474Z",
     "start_time": "2017-12-04T20:54:40.912853Z"
    }
   },
   "source": [
    "### Introduction\n",
    "[Project Sidewalk](http://sidewalk.umiacs.umd.edu) is an online platform for identifying accessibility problems in sidewalks. Users navigate streets using Google Street View, and place labels on issues such as crosswalks without curbramps, uneven pavement, and obstacles blocking the path. In order to ensure some level of accuracy in the data, Project Sidewalk can use a couple tools. Each user has to complete a tutorial before they can begin to report problems. Another option is ground truth seeding, where users place labels in a region that already has established answers. If the user enters data that doesn't match the ground truth, then all of the data they entered can be flagged.\n",
    "\n",
    "Here, we will investigate another possible option: using the user's interactions with the tool to predict their accuracy. Consider a user who is inactive for long periods, and barely uses any of the tool's features. This user probably gives worse input than a user who works consistently and employs all of the tool's features. Aspects of interaction include mouse movement, keypresses, and others that we can collect while users place labels. If accurate labels correspond to a certain type of usage, then these features could predict the accuracy of a user even in non ground truth regions.\n",
    "\n",
    "To see if this is possible, we'll use data from ground truth regions to train and test a classifier.\n",
    "\n",
    "### Setup python notebook"
   ]
  },
  {
   "cell_type": "code",
   "execution_count": 1,
   "metadata": {
    "ExecuteTime": {
     "end_time": "2017-12-06T06:26:19.256636Z",
     "start_time": "2017-12-06T06:26:18.660450Z"
    }
   },
   "outputs": [],
   "source": [
    "import pandas as pd\n",
    "import psycopg2 as pg\n",
    "\n",
    "# connect to volunteer database\n",
    "vol_con = pg.connect(database=\"sidewalk\", user=\"sidewalk\", password=\"sidewalk\", host=\"localhost\", port=\"5432\" )\n",
    "\n",
    "# connect to turker database\n",
    "turk_con = pg.connect(database=\"sidewalk_turker\", user=\"sidewalk\", password=\"sidewalk\", host=\"localhost\", port=\"5432\" )"
   ]
  },
  {
   "cell_type": "code",
   "execution_count": 16,
   "metadata": {
    "ExecuteTime": {
     "end_time": "2017-12-06T06:34:52.467182Z",
     "start_time": "2017-12-06T06:34:52.459994Z"
    }
   },
   "outputs": [
    {
     "data": {
      "text/html": [
       "<style>\n",
       "img {display: inline-block; float='left'}\n",
       "</style>"
      ],
      "text/plain": [
       "<IPython.core.display.HTML object>"
      ]
     },
     "metadata": {},
     "output_type": "display_data"
    }
   ],
   "source": [
    "%%html\n",
    "<style>\n",
    "img {display: inline-block; float='left'}\n",
    "</style>"
   ]
  },
  {
   "cell_type": "markdown",
   "metadata": {},
   "source": [
    "### Features\n",
    "Project Sidewalk has logs for variety of user events. The events range from low-level (mouse movements, clicks, etc.) to high-level (zoom in/out, changing label mode, etc.). If we query the interaction table, we can see all the event types."
   ]
  },
  {
   "cell_type": "code",
   "execution_count": 3,
   "metadata": {
    "ExecuteTime": {
     "end_time": "2017-12-06T06:26:25.033609Z",
     "start_time": "2017-12-06T06:26:19.276548Z"
    }
   },
   "outputs": [
    {
     "name": "stdout",
     "output_type": "stream",
     "text": [
      "Number of event types: 109\n"
     ]
    },
    {
     "data": {
      "text/html": [
       "<div>\n",
       "<style>\n",
       "    .dataframe thead tr:only-child th {\n",
       "        text-align: right;\n",
       "    }\n",
       "\n",
       "    .dataframe thead th {\n",
       "        text-align: left;\n",
       "    }\n",
       "\n",
       "    .dataframe tbody tr th {\n",
       "        vertical-align: top;\n",
       "    }\n",
       "</style>\n",
       "<table border=\"1\" class=\"dataframe\">\n",
       "  <thead>\n",
       "    <tr style=\"text-align: right;\">\n",
       "      <th></th>\n",
       "      <th>action</th>\n",
       "    </tr>\n",
       "  </thead>\n",
       "  <tbody>\n",
       "    <tr>\n",
       "      <th>0</th>\n",
       "      <td>ModeSwitch_Walk</td>\n",
       "    </tr>\n",
       "    <tr>\n",
       "      <th>1</th>\n",
       "      <td>KeyboardShortcut_ModeSwitch_CurbRamp</td>\n",
       "    </tr>\n",
       "    <tr>\n",
       "      <th>2</th>\n",
       "      <td>ViewControl_DoubleClick</td>\n",
       "    </tr>\n",
       "    <tr>\n",
       "      <th>3</th>\n",
       "      <td>KeyboardShortcut_ClickOk</td>\n",
       "    </tr>\n",
       "    <tr>\n",
       "      <th>4</th>\n",
       "      <td>KeyUp</td>\n",
       "    </tr>\n",
       "  </tbody>\n",
       "</table>\n",
       "</div>"
      ],
      "text/plain": [
       "                                 action\n",
       "0                       ModeSwitch_Walk\n",
       "1  KeyboardShortcut_ModeSwitch_CurbRamp\n",
       "2               ViewControl_DoubleClick\n",
       "3              KeyboardShortcut_ClickOk\n",
       "4                                 KeyUp"
      ]
     },
     "execution_count": 3,
     "metadata": {},
     "output_type": "execute_result"
    }
   ],
   "source": [
    "event_types = pd.read_sql(\n",
    "'''\n",
    "SELECT DISTINCT action\n",
    "FROM audit_task_interaction\n",
    "''', vol_con)\n",
    "\n",
    "print(\"Number of event types:\", len(event_types))\n",
    "event_types.head()"
   ]
  },
  {
   "cell_type": "markdown",
   "metadata": {},
   "source": [
    "For each user session, we have a collection of the events that were triggered. In order to compare two sessions, we can look at the total number of each type of event. We also look at the mean and standard deviation of the number of events per Google Street View panorama. This way, a user session in a large region can be compared fairly to a session in a smaller region since the former will have more panoramas.\n",
    "\n",
    "We can load in these event counts from `features.csv`. This file was created by **TODO**."
   ]
  },
  {
   "cell_type": "code",
   "execution_count": 4,
   "metadata": {
    "ExecuteTime": {
     "end_time": "2017-12-06T06:26:25.108270Z",
     "start_time": "2017-12-06T06:26:25.035824Z"
    }
   },
   "outputs": [
    {
     "data": {
      "text/html": [
       "<div>\n",
       "<style>\n",
       "    .dataframe thead tr:only-child th {\n",
       "        text-align: right;\n",
       "    }\n",
       "\n",
       "    .dataframe thead th {\n",
       "        text-align: left;\n",
       "    }\n",
       "\n",
       "    .dataframe tbody tr th {\n",
       "        vertical-align: top;\n",
       "    }\n",
       "</style>\n",
       "<table border=\"1\" class=\"dataframe\">\n",
       "  <thead>\n",
       "    <tr style=\"text-align: right;\">\n",
       "      <th></th>\n",
       "      <th>Click_LabelDelete_per_pan_mean</th>\n",
       "      <th>Click_LabelDelete_per_pan_std</th>\n",
       "      <th>Click_LabelDelete_total</th>\n",
       "      <th>Click_ModeSwitch_CurbRamp_per_pan_mean</th>\n",
       "      <th>Click_ModeSwitch_CurbRamp_per_pan_std</th>\n",
       "      <th>Click_ModeSwitch_CurbRamp_total</th>\n",
       "      <th>Click_ModeSwitch_NoCurbRamp_per_pan_mean</th>\n",
       "      <th>Click_ModeSwitch_NoCurbRamp_per_pan_std</th>\n",
       "      <th>Click_ModeSwitch_NoCurbRamp_total</th>\n",
       "      <th>Click_ModeSwitch_NoSidewalk_per_pan_mean</th>\n",
       "      <th>...</th>\n",
       "      <th>ViewControl_DoubleClick_total</th>\n",
       "      <th>ViewControl_MouseDown_per_pan_mean</th>\n",
       "      <th>ViewControl_MouseDown_per_pan_std</th>\n",
       "      <th>ViewControl_MouseDown_total</th>\n",
       "      <th>ViewControl_MouseUp_per_pan_mean</th>\n",
       "      <th>ViewControl_MouseUp_per_pan_std</th>\n",
       "      <th>ViewControl_MouseUp_total</th>\n",
       "      <th>WalkTowards_per_pan_mean</th>\n",
       "      <th>WalkTowards_per_pan_std</th>\n",
       "      <th>WalkTowards_total</th>\n",
       "    </tr>\n",
       "  </thead>\n",
       "  <tbody>\n",
       "    <tr>\n",
       "      <th>322</th>\n",
       "      <td>0.000000</td>\n",
       "      <td>0.00000</td>\n",
       "      <td>0</td>\n",
       "      <td>6.000000</td>\n",
       "      <td>1.414214</td>\n",
       "      <td>12</td>\n",
       "      <td>1.000000</td>\n",
       "      <td>0.000000</td>\n",
       "      <td>1</td>\n",
       "      <td>0</td>\n",
       "      <td>...</td>\n",
       "      <td>1</td>\n",
       "      <td>5.812500</td>\n",
       "      <td>8.788013</td>\n",
       "      <td>93</td>\n",
       "      <td>5.500000</td>\n",
       "      <td>8.082904</td>\n",
       "      <td>88</td>\n",
       "      <td>0</td>\n",
       "      <td>0</td>\n",
       "      <td>0</td>\n",
       "    </tr>\n",
       "    <tr>\n",
       "      <th>207</th>\n",
       "      <td>0.000000</td>\n",
       "      <td>0.00000</td>\n",
       "      <td>0</td>\n",
       "      <td>0.000000</td>\n",
       "      <td>0.000000</td>\n",
       "      <td>0</td>\n",
       "      <td>0.000000</td>\n",
       "      <td>0.000000</td>\n",
       "      <td>0</td>\n",
       "      <td>0</td>\n",
       "      <td>...</td>\n",
       "      <td>0</td>\n",
       "      <td>0.000000</td>\n",
       "      <td>0.000000</td>\n",
       "      <td>0</td>\n",
       "      <td>0.000000</td>\n",
       "      <td>0.000000</td>\n",
       "      <td>0</td>\n",
       "      <td>0</td>\n",
       "      <td>0</td>\n",
       "      <td>0</td>\n",
       "    </tr>\n",
       "    <tr>\n",
       "      <th>67</th>\n",
       "      <td>0.000000</td>\n",
       "      <td>0.00000</td>\n",
       "      <td>0</td>\n",
       "      <td>0.000000</td>\n",
       "      <td>0.000000</td>\n",
       "      <td>0</td>\n",
       "      <td>0.000000</td>\n",
       "      <td>0.000000</td>\n",
       "      <td>0</td>\n",
       "      <td>0</td>\n",
       "      <td>...</td>\n",
       "      <td>0</td>\n",
       "      <td>0.000000</td>\n",
       "      <td>0.000000</td>\n",
       "      <td>0</td>\n",
       "      <td>0.000000</td>\n",
       "      <td>0.000000</td>\n",
       "      <td>0</td>\n",
       "      <td>0</td>\n",
       "      <td>0</td>\n",
       "      <td>0</td>\n",
       "    </tr>\n",
       "    <tr>\n",
       "      <th>92</th>\n",
       "      <td>1.000000</td>\n",
       "      <td>0.00000</td>\n",
       "      <td>5</td>\n",
       "      <td>3.555556</td>\n",
       "      <td>1.998207</td>\n",
       "      <td>224</td>\n",
       "      <td>1.454545</td>\n",
       "      <td>0.687552</td>\n",
       "      <td>16</td>\n",
       "      <td>0</td>\n",
       "      <td>...</td>\n",
       "      <td>2</td>\n",
       "      <td>2.369565</td>\n",
       "      <td>3.039742</td>\n",
       "      <td>1090</td>\n",
       "      <td>2.336957</td>\n",
       "      <td>2.983167</td>\n",
       "      <td>1075</td>\n",
       "      <td>0</td>\n",
       "      <td>0</td>\n",
       "      <td>0</td>\n",
       "    </tr>\n",
       "    <tr>\n",
       "      <th>23</th>\n",
       "      <td>1.333333</td>\n",
       "      <td>0.57735</td>\n",
       "      <td>4</td>\n",
       "      <td>1.874172</td>\n",
       "      <td>1.318103</td>\n",
       "      <td>283</td>\n",
       "      <td>1.323529</td>\n",
       "      <td>0.534880</td>\n",
       "      <td>45</td>\n",
       "      <td>0</td>\n",
       "      <td>...</td>\n",
       "      <td>4</td>\n",
       "      <td>2.286598</td>\n",
       "      <td>2.967163</td>\n",
       "      <td>1109</td>\n",
       "      <td>2.255670</td>\n",
       "      <td>2.831456</td>\n",
       "      <td>1094</td>\n",
       "      <td>0</td>\n",
       "      <td>0</td>\n",
       "      <td>0</td>\n",
       "    </tr>\n",
       "  </tbody>\n",
       "</table>\n",
       "<p>5 rows × 327 columns</p>\n",
       "</div>"
      ],
      "text/plain": [
       "     Click_LabelDelete_per_pan_mean  Click_LabelDelete_per_pan_std  \\\n",
       "322                        0.000000                        0.00000   \n",
       "207                        0.000000                        0.00000   \n",
       "67                         0.000000                        0.00000   \n",
       "92                         1.000000                        0.00000   \n",
       "23                         1.333333                        0.57735   \n",
       "\n",
       "     Click_LabelDelete_total  Click_ModeSwitch_CurbRamp_per_pan_mean  \\\n",
       "322                        0                                6.000000   \n",
       "207                        0                                0.000000   \n",
       "67                         0                                0.000000   \n",
       "92                         5                                3.555556   \n",
       "23                         4                                1.874172   \n",
       "\n",
       "     Click_ModeSwitch_CurbRamp_per_pan_std  Click_ModeSwitch_CurbRamp_total  \\\n",
       "322                               1.414214                               12   \n",
       "207                               0.000000                                0   \n",
       "67                                0.000000                                0   \n",
       "92                                1.998207                              224   \n",
       "23                                1.318103                              283   \n",
       "\n",
       "     Click_ModeSwitch_NoCurbRamp_per_pan_mean  \\\n",
       "322                                  1.000000   \n",
       "207                                  0.000000   \n",
       "67                                   0.000000   \n",
       "92                                   1.454545   \n",
       "23                                   1.323529   \n",
       "\n",
       "     Click_ModeSwitch_NoCurbRamp_per_pan_std  \\\n",
       "322                                 0.000000   \n",
       "207                                 0.000000   \n",
       "67                                  0.000000   \n",
       "92                                  0.687552   \n",
       "23                                  0.534880   \n",
       "\n",
       "     Click_ModeSwitch_NoCurbRamp_total  \\\n",
       "322                                  1   \n",
       "207                                  0   \n",
       "67                                   0   \n",
       "92                                  16   \n",
       "23                                  45   \n",
       "\n",
       "     Click_ModeSwitch_NoSidewalk_per_pan_mean        ...          \\\n",
       "322                                         0        ...           \n",
       "207                                         0        ...           \n",
       "67                                          0        ...           \n",
       "92                                          0        ...           \n",
       "23                                          0        ...           \n",
       "\n",
       "     ViewControl_DoubleClick_total  ViewControl_MouseDown_per_pan_mean  \\\n",
       "322                              1                            5.812500   \n",
       "207                              0                            0.000000   \n",
       "67                               0                            0.000000   \n",
       "92                               2                            2.369565   \n",
       "23                               4                            2.286598   \n",
       "\n",
       "     ViewControl_MouseDown_per_pan_std  ViewControl_MouseDown_total  \\\n",
       "322                           8.788013                           93   \n",
       "207                           0.000000                            0   \n",
       "67                            0.000000                            0   \n",
       "92                            3.039742                         1090   \n",
       "23                            2.967163                         1109   \n",
       "\n",
       "     ViewControl_MouseUp_per_pan_mean  ViewControl_MouseUp_per_pan_std  \\\n",
       "322                          5.500000                         8.082904   \n",
       "207                          0.000000                         0.000000   \n",
       "67                           0.000000                         0.000000   \n",
       "92                           2.336957                         2.983167   \n",
       "23                           2.255670                         2.831456   \n",
       "\n",
       "     ViewControl_MouseUp_total  WalkTowards_per_pan_mean  \\\n",
       "322                         88                         0   \n",
       "207                          0                         0   \n",
       "67                           0                         0   \n",
       "92                        1075                         0   \n",
       "23                        1094                         0   \n",
       "\n",
       "     WalkTowards_per_pan_std  WalkTowards_total  \n",
       "322                        0                  0  \n",
       "207                        0                  0  \n",
       "67                         0                  0  \n",
       "92                         0                  0  \n",
       "23                         0                  0  \n",
       "\n",
       "[5 rows x 327 columns]"
      ]
     },
     "execution_count": 4,
     "metadata": {},
     "output_type": "execute_result"
    }
   ],
   "source": [
    "features = pd.read_csv('features.csv', index_col=0)\n",
    "features.sample(n=5)"
   ]
  },
  {
   "cell_type": "markdown",
   "metadata": {},
   "source": [
    "### Labels\n",
    "We need to rate each user session on its accuracy compared to the ground truth. We do so by counting the number of true positives, false positives, true negatives, and false negatives from the session. These are defined as follows:\n",
    "\n",
    "#### True positive\n",
    "The user correctly places a label. Here, the green icon is a label for a curb ramp. The user placed it correctly, so this is a true positive.\n",
    "\n",
    "![true positive](images/true-pos.png)\n",
    "\n",
    "#### False positive\n",
    "The user places a label incorrectly. Here, the user placed a green icon to identify a curb ramp, but none are present.\n",
    "\n",
    "![false positive](images/false-pos.png)\n",
    "\n",
    "#### True negative\n",
    "There was nothing to label, and the user didn't label anything. This can be calculated with varying granularity: \n",
    "\n",
    "![true negative](images/true-neg.png)\n",
    "\n",
    "#### False negative\n",
    "There was something to label, but the user missed it. Here, there is a curb ramp with no label.\n",
    "\n",
    "![false negative](images/false-neg.png)"
   ]
  },
  {
   "cell_type": "code",
   "execution_count": null,
   "metadata": {},
   "outputs": [],
   "source": []
  },
  {
   "cell_type": "code",
   "execution_count": null,
   "metadata": {},
   "outputs": [],
   "source": []
  },
  {
   "cell_type": "code",
   "execution_count": null,
   "metadata": {},
   "outputs": [],
   "source": []
  }
 ],
 "metadata": {
  "kernelspec": {
   "display_name": "Python 3",
   "language": "python",
   "name": "python3"
  },
  "language_info": {
   "codemirror_mode": {
    "name": "ipython",
    "version": 3
   },
   "file_extension": ".py",
   "mimetype": "text/x-python",
   "name": "python",
   "nbconvert_exporter": "python",
   "pygments_lexer": "ipython3",
   "version": "3.6.3"
  }
 },
 "nbformat": 4,
 "nbformat_minor": 2
}
