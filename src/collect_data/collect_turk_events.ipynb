{
 "cells": [
  {
   "cell_type": "markdown",
   "metadata": {},
   "source": [
    "### Collect event statistics for each turker"
   ]
  },
  {
   "cell_type": "code",
   "execution_count": 1,
   "metadata": {
    "ExecuteTime": {
     "end_time": "2017-12-07T00:13:52.740660Z",
     "start_time": "2017-12-07T00:13:52.100300Z"
    }
   },
   "outputs": [],
   "source": [
    "import psycopg2 as pg\n",
    "import numpy as np\n",
    "import pandas as pd\n",
    "import datetime\n",
    "import logging\n",
    "import math\n",
    "\n",
    "# connect to turker database\n",
    "connection = pg.connect(\n",
    "    database=\"sidewalk_turker\",\n",
    "    user=\"sidewalk\",\n",
    "    password=\"sidewalk\",\n",
    "    host=\"localhost\",\n",
    "    port=\"5432\")"
   ]
  },
  {
   "cell_type": "code",
   "execution_count": 2,
   "metadata": {
    "ExecuteTime": {
     "end_time": "2017-12-07T00:13:52.778138Z",
     "start_time": "2017-12-07T00:13:52.742201Z"
    }
   },
   "outputs": [
    {
     "data": {
      "text/html": [
       "<div>\n",
       "<style scoped>\n",
       "    .dataframe tbody tr th:only-of-type {\n",
       "        vertical-align: middle;\n",
       "    }\n",
       "\n",
       "    .dataframe tbody tr th {\n",
       "        vertical-align: top;\n",
       "    }\n",
       "\n",
       "    .dataframe thead th {\n",
       "        text-align: right;\n",
       "    }\n",
       "</style>\n",
       "<table border=\"1\" class=\"dataframe\">\n",
       "  <thead>\n",
       "    <tr style=\"text-align: right;\">\n",
       "      <th></th>\n",
       "      <th>condition_id</th>\n",
       "      <th>worker_id</th>\n",
       "    </tr>\n",
       "  </thead>\n",
       "  <tbody>\n",
       "    <tr>\n",
       "      <th>0</th>\n",
       "      <td>70</td>\n",
       "      <td>A3PPRVK6XK6GP5</td>\n",
       "    </tr>\n",
       "    <tr>\n",
       "      <th>1</th>\n",
       "      <td>72</td>\n",
       "      <td>A1TNQU9L5L62PL</td>\n",
       "    </tr>\n",
       "    <tr>\n",
       "      <th>2</th>\n",
       "      <td>74</td>\n",
       "      <td>A20BMZQJS92QY2</td>\n",
       "    </tr>\n",
       "    <tr>\n",
       "      <th>3</th>\n",
       "      <td>75</td>\n",
       "      <td>A3AUDX0SE41K23</td>\n",
       "    </tr>\n",
       "    <tr>\n",
       "      <th>4</th>\n",
       "      <td>76</td>\n",
       "      <td>A2DU8E2MAIGII6</td>\n",
       "    </tr>\n",
       "  </tbody>\n",
       "</table>\n",
       "</div>"
      ],
      "text/plain": [
       "   condition_id       worker_id\n",
       "0            70  A3PPRVK6XK6GP5\n",
       "1            72  A1TNQU9L5L62PL\n",
       "2            74  A20BMZQJS92QY2\n",
       "3            75  A3AUDX0SE41K23\n",
       "4            76  A2DU8E2MAIGII6"
      ]
     },
     "execution_count": 2,
     "metadata": {},
     "output_type": "execute_result"
    }
   ],
   "source": [
    "turk_ids = pd.read_csv('../../data/interim/turk-ids.csv')\n",
    "turk_ids.head()"
   ]
  },
  {
   "cell_type": "code",
   "execution_count": 3,
   "metadata": {
    "ExecuteTime": {
     "end_time": "2017-12-07T00:13:52.791591Z",
     "start_time": "2017-12-07T00:13:52.780762Z"
    }
   },
   "outputs": [
    {
     "data": {
      "text/plain": [
       "['Click_LabelDelete',\n",
       " 'Click_ModeSwitch_CurbRamp',\n",
       " 'Click_ModeSwitch_NoCurbRamp',\n",
       " 'Click_ModeSwitch_NoSidewalk',\n",
       " 'Click_ModeSwitch_Obstacle']"
      ]
     },
     "execution_count": 3,
     "metadata": {},
     "output_type": "execute_result"
    }
   ],
   "source": [
    "event_types = pd.read_csv('../../data/interim/event-types.csv')\n",
    "event_types = event_types['event_type'].tolist()\n",
    "event_types[:5]"
   ]
  },
  {
   "cell_type": "code",
   "execution_count": 4,
   "metadata": {
    "ExecuteTime": {
     "end_time": "2017-12-07T00:13:52.806238Z",
     "start_time": "2017-12-07T00:13:52.794607Z"
    }
   },
   "outputs": [
    {
     "data": {
      "text/plain": [
       "['Click_LabelDelete_per_pan_mean',\n",
       " 'Click_LabelDelete_per_pan_std',\n",
       " 'Click_LabelDelete_total',\n",
       " 'Click_ModeSwitch_CurbRamp_per_pan_mean',\n",
       " 'Click_ModeSwitch_CurbRamp_per_pan_std']"
      ]
     },
     "execution_count": 4,
     "metadata": {},
     "output_type": "execute_result"
    }
   ],
   "source": [
    "feature_names = pd.read_csv('../../data/interim/feature-names.csv')\n",
    "feature_names = feature_names['feature'].tolist()\n",
    "feature_names[:5]"
   ]
  },
  {
   "cell_type": "code",
   "execution_count": 5,
   "metadata": {
    "ExecuteTime": {
     "end_time": "2017-12-07T00:13:52.831365Z",
     "start_time": "2017-12-07T00:13:52.809616Z"
    }
   },
   "outputs": [],
   "source": [
    "'''\n",
    "Sequence of queries to retrieve interactions for a user\n",
    "'''\n",
    "\n",
    "def get_assignment_id(condition_id, turker_id):\n",
    "    return pd.read_sql(\n",
    "    '''\n",
    "        SELECT amt_assignment_id\n",
    "        FROM amt_assignment\n",
    "        WHERE condition_id='%(condition_id)s' AND turker_id='%(turker_id)s'\n",
    "    ''' % locals(), connection)\n",
    "\n",
    "def get_route_ids(condition_id, turker_id):\n",
    "    return pd.read_sql(\n",
    "    '''\n",
    "        SELECT DISTINCT route_id\n",
    "        FROM amt_assignment\n",
    "        WHERE condition_id='%(condition_id)s' AND turker_id='%(turker_id)s'\n",
    "    ''' % locals(), connection)\n",
    "\n",
    "def get_street_edges(route_id):\n",
    "    return pd.read_sql(\n",
    "    '''\n",
    "        SELECT current_street_edge_id\n",
    "        FROM route_street\n",
    "        WHERE route_id='%(route_id)s'\n",
    "    ''' % locals(), connection)\n",
    "\n",
    "def get_audit_tasks(assignment_id, street_edge):\n",
    "    return pd.read_sql(\n",
    "    '''\n",
    "        SELECT audit_task_id\n",
    "        FROM audit_task\n",
    "        WHERE amt_assignment_id='%(assignment_id)s' AND street_edge_id='%(street_edge)s'\n",
    "    ''' % locals(), connection)\n",
    "\n",
    "def get_audit_interactions(audit_task_id):\n",
    "    return pd.read_sql(\n",
    "    '''\n",
    "        SELECT *\n",
    "        FROM audit_task_interaction\n",
    "        WHERE audit_task_id='%(audit_task_id)s'\n",
    "    ''' % locals(), connection)"
   ]
  },
  {
   "cell_type": "code",
   "execution_count": 6,
   "metadata": {
    "ExecuteTime": {
     "end_time": "2017-12-07T00:13:52.870710Z",
     "start_time": "2017-12-07T00:13:52.834560Z"
    }
   },
   "outputs": [],
   "source": [
    "'''\n",
    "Find the total, mean, and std of each event type\n",
    "'''\n",
    "\n",
    "def get_action_counts(audit_inter):\n",
    "    features = {}\n",
    "    \n",
    "    for action in event_types:\n",
    "        a = audit_inter[audit_inter['action'] == action]\n",
    "        g = a.groupby('gsv_panorama_id').size()\n",
    "        \n",
    "        total = len(a)\n",
    "        mean = g.mean()\n",
    "        std = g.std()\n",
    "        \n",
    "        # if there are too few elements to compute\n",
    "        if math.isnan(mean):\n",
    "            mean = 0\n",
    "            \n",
    "        if math.isnan(std):\n",
    "            std = 0\n",
    "            \n",
    "        features[action + '_total'] = total\n",
    "        features[action + '_per_pan_mean'] = mean\n",
    "        features[action + '_per_pan_std'] = std\n",
    "    \n",
    "    return features"
   ]
  },
  {
   "cell_type": "code",
   "execution_count": 7,
   "metadata": {
    "ExecuteTime": {
     "end_time": "2017-12-07T00:13:53.000681Z",
     "start_time": "2017-12-07T00:13:52.876790Z"
    }
   },
   "outputs": [],
   "source": [
    "'''\n",
    "Find all features for a turker\n",
    "'''\n",
    "\n",
    "def get_features(condition_id, worker_id):\n",
    "    all_audit_interactions = None\n",
    "    logging.debug('Condition_id, worker_id: ' + str(condition_id) + ', ' + str(worker_id))\n",
    "    \n",
    "    feature_df = pd.DataFrame(columns=(['condition_id', 'worker_id'] + feature_names))\n",
    "    \n",
    "    assignment_id = get_assignment_id(condition_id, worker_id)\n",
    "    if len(assignment_id) == 0:\n",
    "        logging.warning('SKIPPING condition_id, worker_id: ' + str(condition_id) + ', ' + str(worker_id))\n",
    "        return\n",
    "    \n",
    "    assignment_ids = assignment_id['amt_assignment_id']\n",
    "    routes = get_route_ids(condition_id, worker_id)\n",
    "    \n",
    "    for assignment_id in assignment_ids:\n",
    "        logging.debug('Assignment id: ' + str(assignment_id))\n",
    "\n",
    "        for i, route in routes[:3].iterrows():\n",
    "            route_number = route['route_id']\n",
    "            street_edges = get_street_edges(route_number)\n",
    "\n",
    "            logging.debug('  Route_id: ' + str(route_number))\n",
    "\n",
    "            for j, street_edge_series in street_edges.iterrows():\n",
    "                street_edge = street_edge_series['current_street_edge_id']\n",
    "                audit_tasks = get_audit_tasks(assignment_id, street_edge)\n",
    "\n",
    "                logging.debug('    Street edge: ' + str(street_edge))\n",
    "                logging.debug('    Num audit_tasks: ' + str(len(audit_tasks)))\n",
    "\n",
    "                for k, audit_task in audit_tasks.iterrows():\n",
    "                    audit_task_id = audit_task['audit_task_id']\n",
    "                    audit_interactions = get_audit_interactions(audit_task_id)\n",
    "\n",
    "                    logging.debug('      Audit task id: ' + str(audit_task_id))\n",
    "                    logging.debug('      Num interactions: ' + str(len(audit_interactions)))\n",
    "\n",
    "                    if all_audit_interactions is None:\n",
    "                        all_audit_interactions = audit_interactions\n",
    "                    else:\n",
    "                        all_audit_interactions = all_audit_interactions.append(audit_interactions)\n",
    "                \n",
    "    if all_audit_interactions is None:\n",
    "        logging.warning('SKIPPING because no iteraction: ' + str(condition_id) + ', ' + str(worker_id))\n",
    "        return\n",
    "    action_counts = get_action_counts(all_audit_interactions)\n",
    "    \n",
    "    feature_list = [action_counts[feature] for feature in feature_names]\n",
    "    feature_df.loc[len(feature_df)] = [condition_id, worker_id] + feature_list\n",
    "    \n",
    "    return feature_df"
   ]
  },
  {
   "cell_type": "code",
   "execution_count": 8,
   "metadata": {
    "ExecuteTime": {
     "end_time": "2017-12-07T01:05:41.725122Z",
     "start_time": "2017-12-07T00:13:53.002877Z"
    }
   },
   "outputs": [],
   "source": [
    "'''\n",
    "Collect features for each turker (long operation)\n",
    "'''\n",
    "\n",
    "features = None\n",
    "\n",
    "for i, user in turk_ids.iterrows():\n",
    "    \n",
    "    f = get_features(user['condition_id'], user['worker_id'])\n",
    "    if features is None:\n",
    "        features = f\n",
    "    else:\n",
    "        features = features.append(f)\n",
    "\n",
    "features.reset_index(inplace=True)"
   ]
  },
  {
   "cell_type": "code",
   "execution_count": 9,
   "metadata": {
    "ExecuteTime": {
     "end_time": "2017-12-07T01:05:41.798666Z",
     "start_time": "2017-12-07T01:05:41.727344Z"
    }
   },
   "outputs": [
    {
     "data": {
      "text/html": [
       "<div>\n",
       "<style scoped>\n",
       "    .dataframe tbody tr th:only-of-type {\n",
       "        vertical-align: middle;\n",
       "    }\n",
       "\n",
       "    .dataframe tbody tr th {\n",
       "        vertical-align: top;\n",
       "    }\n",
       "\n",
       "    .dataframe thead th {\n",
       "        text-align: right;\n",
       "    }\n",
       "</style>\n",
       "<table border=\"1\" class=\"dataframe\">\n",
       "  <thead>\n",
       "    <tr style=\"text-align: right;\">\n",
       "      <th></th>\n",
       "      <th>index</th>\n",
       "      <th>condition_id</th>\n",
       "      <th>worker_id</th>\n",
       "      <th>Click_LabelDelete_per_pan_mean</th>\n",
       "      <th>Click_LabelDelete_per_pan_std</th>\n",
       "      <th>Click_LabelDelete_total</th>\n",
       "      <th>Click_ModeSwitch_CurbRamp_per_pan_mean</th>\n",
       "      <th>Click_ModeSwitch_CurbRamp_per_pan_std</th>\n",
       "      <th>Click_ModeSwitch_CurbRamp_total</th>\n",
       "      <th>Click_ModeSwitch_NoCurbRamp_per_pan_mean</th>\n",
       "      <th>...</th>\n",
       "      <th>ViewControl_DoubleClick_total</th>\n",
       "      <th>ViewControl_MouseDown_per_pan_mean</th>\n",
       "      <th>ViewControl_MouseDown_per_pan_std</th>\n",
       "      <th>ViewControl_MouseDown_total</th>\n",
       "      <th>ViewControl_MouseUp_per_pan_mean</th>\n",
       "      <th>ViewControl_MouseUp_per_pan_std</th>\n",
       "      <th>ViewControl_MouseUp_total</th>\n",
       "      <th>WalkTowards_per_pan_mean</th>\n",
       "      <th>WalkTowards_per_pan_std</th>\n",
       "      <th>WalkTowards_total</th>\n",
       "    </tr>\n",
       "  </thead>\n",
       "  <tbody>\n",
       "    <tr>\n",
       "      <th>0</th>\n",
       "      <td>0</td>\n",
       "      <td>70</td>\n",
       "      <td>A3PPRVK6XK6GP5</td>\n",
       "      <td>2.5</td>\n",
       "      <td>2.12132</td>\n",
       "      <td>5</td>\n",
       "      <td>3.38889</td>\n",
       "      <td>2.22655</td>\n",
       "      <td>61</td>\n",
       "      <td>2</td>\n",
       "      <td>...</td>\n",
       "      <td>130</td>\n",
       "      <td>7.235294</td>\n",
       "      <td>8.381736</td>\n",
       "      <td>615</td>\n",
       "      <td>6.917647</td>\n",
       "      <td>7.850101</td>\n",
       "      <td>588</td>\n",
       "      <td>0</td>\n",
       "      <td>0</td>\n",
       "      <td>0</td>\n",
       "    </tr>\n",
       "    <tr>\n",
       "      <th>1</th>\n",
       "      <td>0</td>\n",
       "      <td>72</td>\n",
       "      <td>A1TNQU9L5L62PL</td>\n",
       "      <td>0</td>\n",
       "      <td>0</td>\n",
       "      <td>0</td>\n",
       "      <td>2.21951</td>\n",
       "      <td>2.603</td>\n",
       "      <td>91</td>\n",
       "      <td>1.44737</td>\n",
       "      <td>...</td>\n",
       "      <td>23</td>\n",
       "      <td>5.656489</td>\n",
       "      <td>6.420845</td>\n",
       "      <td>741</td>\n",
       "      <td>5.389313</td>\n",
       "      <td>6.039068</td>\n",
       "      <td>706</td>\n",
       "      <td>0</td>\n",
       "      <td>0</td>\n",
       "      <td>0</td>\n",
       "    </tr>\n",
       "    <tr>\n",
       "      <th>2</th>\n",
       "      <td>0</td>\n",
       "      <td>74</td>\n",
       "      <td>A20BMZQJS92QY2</td>\n",
       "      <td>1.18182</td>\n",
       "      <td>0.40452</td>\n",
       "      <td>13</td>\n",
       "      <td>2.35897</td>\n",
       "      <td>1.76944</td>\n",
       "      <td>92</td>\n",
       "      <td>1.84615</td>\n",
       "      <td>...</td>\n",
       "      <td>1</td>\n",
       "      <td>8.060606</td>\n",
       "      <td>5.626759</td>\n",
       "      <td>1064</td>\n",
       "      <td>7.878788</td>\n",
       "      <td>5.523068</td>\n",
       "      <td>1040</td>\n",
       "      <td>0</td>\n",
       "      <td>0</td>\n",
       "      <td>0</td>\n",
       "    </tr>\n",
       "    <tr>\n",
       "      <th>3</th>\n",
       "      <td>0</td>\n",
       "      <td>75</td>\n",
       "      <td>A3AUDX0SE41K23</td>\n",
       "      <td>1</td>\n",
       "      <td>0</td>\n",
       "      <td>4</td>\n",
       "      <td>4.92</td>\n",
       "      <td>2.5318</td>\n",
       "      <td>123</td>\n",
       "      <td>1</td>\n",
       "      <td>...</td>\n",
       "      <td>13</td>\n",
       "      <td>8.504274</td>\n",
       "      <td>9.576933</td>\n",
       "      <td>995</td>\n",
       "      <td>7.709402</td>\n",
       "      <td>8.266113</td>\n",
       "      <td>902</td>\n",
       "      <td>0</td>\n",
       "      <td>0</td>\n",
       "      <td>0</td>\n",
       "    </tr>\n",
       "    <tr>\n",
       "      <th>4</th>\n",
       "      <td>0</td>\n",
       "      <td>76</td>\n",
       "      <td>A2DU8E2MAIGII6</td>\n",
       "      <td>1.66667</td>\n",
       "      <td>0.57735</td>\n",
       "      <td>5</td>\n",
       "      <td>3.66667</td>\n",
       "      <td>2.3094</td>\n",
       "      <td>11</td>\n",
       "      <td>1</td>\n",
       "      <td>...</td>\n",
       "      <td>224</td>\n",
       "      <td>7.772727</td>\n",
       "      <td>7.697928</td>\n",
       "      <td>684</td>\n",
       "      <td>7.511364</td>\n",
       "      <td>7.345331</td>\n",
       "      <td>661</td>\n",
       "      <td>0</td>\n",
       "      <td>0</td>\n",
       "      <td>0</td>\n",
       "    </tr>\n",
       "  </tbody>\n",
       "</table>\n",
       "<p>5 rows × 330 columns</p>\n",
       "</div>"
      ],
      "text/plain": [
       "   index condition_id       worker_id Click_LabelDelete_per_pan_mean  \\\n",
       "0      0           70  A3PPRVK6XK6GP5                            2.5   \n",
       "1      0           72  A1TNQU9L5L62PL                              0   \n",
       "2      0           74  A20BMZQJS92QY2                        1.18182   \n",
       "3      0           75  A3AUDX0SE41K23                              1   \n",
       "4      0           76  A2DU8E2MAIGII6                        1.66667   \n",
       "\n",
       "  Click_LabelDelete_per_pan_std Click_LabelDelete_total  \\\n",
       "0                       2.12132                       5   \n",
       "1                             0                       0   \n",
       "2                       0.40452                      13   \n",
       "3                             0                       4   \n",
       "4                       0.57735                       5   \n",
       "\n",
       "  Click_ModeSwitch_CurbRamp_per_pan_mean  \\\n",
       "0                                3.38889   \n",
       "1                                2.21951   \n",
       "2                                2.35897   \n",
       "3                                   4.92   \n",
       "4                                3.66667   \n",
       "\n",
       "  Click_ModeSwitch_CurbRamp_per_pan_std Click_ModeSwitch_CurbRamp_total  \\\n",
       "0                               2.22655                              61   \n",
       "1                                 2.603                              91   \n",
       "2                               1.76944                              92   \n",
       "3                                2.5318                             123   \n",
       "4                                2.3094                              11   \n",
       "\n",
       "  Click_ModeSwitch_NoCurbRamp_per_pan_mean        ...         \\\n",
       "0                                        2        ...          \n",
       "1                                  1.44737        ...          \n",
       "2                                  1.84615        ...          \n",
       "3                                        1        ...          \n",
       "4                                        1        ...          \n",
       "\n",
       "  ViewControl_DoubleClick_total ViewControl_MouseDown_per_pan_mean  \\\n",
       "0                           130                           7.235294   \n",
       "1                            23                           5.656489   \n",
       "2                             1                           8.060606   \n",
       "3                            13                           8.504274   \n",
       "4                           224                           7.772727   \n",
       "\n",
       "  ViewControl_MouseDown_per_pan_std ViewControl_MouseDown_total  \\\n",
       "0                          8.381736                         615   \n",
       "1                          6.420845                         741   \n",
       "2                          5.626759                        1064   \n",
       "3                          9.576933                         995   \n",
       "4                          7.697928                         684   \n",
       "\n",
       "  ViewControl_MouseUp_per_pan_mean ViewControl_MouseUp_per_pan_std  \\\n",
       "0                         6.917647                        7.850101   \n",
       "1                         5.389313                        6.039068   \n",
       "2                         7.878788                        5.523068   \n",
       "3                         7.709402                        8.266113   \n",
       "4                         7.511364                        7.345331   \n",
       "\n",
       "  ViewControl_MouseUp_total WalkTowards_per_pan_mean WalkTowards_per_pan_std  \\\n",
       "0                       588                        0                       0   \n",
       "1                       706                        0                       0   \n",
       "2                      1040                        0                       0   \n",
       "3                       902                        0                       0   \n",
       "4                       661                        0                       0   \n",
       "\n",
       "  WalkTowards_total  \n",
       "0                 0  \n",
       "1                 0  \n",
       "2                 0  \n",
       "3                 0  \n",
       "4                 0  \n",
       "\n",
       "[5 rows x 330 columns]"
      ]
     },
     "execution_count": 9,
     "metadata": {},
     "output_type": "execute_result"
    }
   ],
   "source": [
    "features.head()"
   ]
  },
  {
   "cell_type": "code",
   "execution_count": 10,
   "metadata": {
    "ExecuteTime": {
     "end_time": "2017-12-07T01:05:41.807367Z",
     "start_time": "2017-12-07T01:05:41.800974Z"
    }
   },
   "outputs": [
    {
     "data": {
      "text/plain": [
       "264"
      ]
     },
     "execution_count": 10,
     "metadata": {},
     "output_type": "execute_result"
    }
   ],
   "source": [
    "len(features)"
   ]
  },
  {
   "cell_type": "code",
   "execution_count": 11,
   "metadata": {
    "ExecuteTime": {
     "end_time": "2017-12-07T01:05:41.818590Z",
     "start_time": "2017-12-07T01:05:41.809854Z"
    }
   },
   "outputs": [
    {
     "data": {
      "text/plain": [
       "264"
      ]
     },
     "execution_count": 11,
     "metadata": {},
     "output_type": "execute_result"
    }
   ],
   "source": [
    "len(turk_ids)"
   ]
  },
  {
   "cell_type": "code",
   "execution_count": 12,
   "metadata": {
    "ExecuteTime": {
     "end_time": "2017-12-07T01:05:41.934820Z",
     "start_time": "2017-12-07T01:05:41.823005Z"
    }
   },
   "outputs": [],
   "source": [
    "del features['index']\n",
    "features.to_csv('../../data/interim/collected/turk-features.csv', index=False)"
   ]
  }
 ],
 "metadata": {
  "kernelspec": {
   "display_name": "Python 3",
   "language": "python",
   "name": "python3"
  },
  "language_info": {
   "codemirror_mode": {
    "name": "ipython",
    "version": 3
   },
   "file_extension": ".py",
   "mimetype": "text/x-python",
   "name": "python",
   "nbconvert_exporter": "python",
   "pygments_lexer": "ipython3",
   "version": "3.6.3"
  }
 },
 "nbformat": 4,
 "nbformat_minor": 2
}
